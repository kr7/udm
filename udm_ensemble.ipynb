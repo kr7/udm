{
  "nbformat": 4,
  "nbformat_minor": 0,
  "metadata": {
    "colab": {
      "provenance": [],
      "authorship_tag": "ABX9TyOotbxg6xo5yu8SMEP3jv0/",
      "include_colab_link": true
    },
    "kernelspec": {
      "name": "python3",
      "display_name": "Python 3"
    },
    "language_info": {
      "name": "python"
    }
  },
  "cells": [
    {
      "cell_type": "markdown",
      "metadata": {
        "id": "view-in-github",
        "colab_type": "text"
      },
      "source": [
        "<a href=\"https://colab.research.google.com/github/kr7/udm/blob/main/udm_ensemble.ipynb\" target=\"_parent\"><img src=\"https://colab.research.google.com/assets/colab-badge.svg\" alt=\"Open In Colab\"/></a>"
      ]
    },
    {
      "cell_type": "code",
      "execution_count": 1,
      "metadata": {
        "id": "pKz0Z6WkTLq_"
      },
      "outputs": [],
      "source": [
        "def fact(n):\n",
        "  if n == 0:\n",
        "    return 1\n",
        "  else:\n",
        "    return n*fact(n-1)"
      ]
    },
    {
      "cell_type": "code",
      "source": [
        "def n_alatt_k(n,k):\n",
        "  return fact(n)/(fact(n-k)*fact(k))"
      ],
      "metadata": {
        "id": "fUTfyH0kTmWF"
      },
      "execution_count": 2,
      "outputs": []
    },
    {
      "cell_type": "code",
      "source": [
        "s = 0\n",
        "for i in range(8,16):\n",
        "  s = s + n_alatt_k(15,i)*(0.25**i)*(0.75**(15-i))"
      ],
      "metadata": {
        "id": "b_swdTXPToTU"
      },
      "execution_count": 3,
      "outputs": []
    },
    {
      "cell_type": "code",
      "source": [
        "s"
      ],
      "metadata": {
        "colab": {
          "base_uri": "https://localhost:8080/"
        },
        "id": "piaZqhoTUCg5",
        "outputId": "7bfcd1a5-2fde-491e-c677-05795eb40e97"
      },
      "execution_count": 4,
      "outputs": [
        {
          "output_type": "execute_result",
          "data": {
            "text/plain": [
              "0.017299838364124298"
            ]
          },
          "metadata": {},
          "execution_count": 4
        }
      ]
    },
    {
      "cell_type": "code",
      "source": [],
      "metadata": {
        "id": "xn5aSxV2n7Ne"
      },
      "execution_count": null,
      "outputs": []
    }
  ]
}