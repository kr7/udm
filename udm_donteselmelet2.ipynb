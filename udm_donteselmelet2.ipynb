{
  "nbformat": 4,
  "nbformat_minor": 0,
  "metadata": {
    "colab": {
      "provenance": [],
      "authorship_tag": "ABX9TyNrtajGS1ZPs8NuGemJmFmf",
      "include_colab_link": true
    },
    "kernelspec": {
      "name": "python3",
      "display_name": "Python 3"
    },
    "language_info": {
      "name": "python"
    }
  },
  "cells": [
    {
      "cell_type": "markdown",
      "metadata": {
        "id": "view-in-github",
        "colab_type": "text"
      },
      "source": [
        "<a href=\"https://colab.research.google.com/github/kr7/udm/blob/main/udm_donteselmelet2.ipynb\" target=\"_parent\"><img src=\"https://colab.research.google.com/assets/colab-badge.svg\" alt=\"Open In Colab\"/></a>"
      ]
    },
    {
      "cell_type": "code",
      "execution_count": 1,
      "metadata": {
        "id": "gbMUqZXs8hGj"
      },
      "outputs": [],
      "source": [
        "import numpy as np"
      ]
    },
    {
      "cell_type": "markdown",
      "source": [
        "Döntési tábla numpy tömbként:"
      ],
      "metadata": {
        "id": "YRvR7wxMQVFC"
      }
    },
    {
      "cell_type": "code",
      "source": [
        "d = np.array( [ [6, 4, 3, 10, 20],\n",
        "                [3, 8, 25, 5, 9],\n",
        "                [7, 16, 77, 47, 6],\n",
        "                [12, 5, 8, 30, 22]])"
      ],
      "metadata": {
        "id": "Yo5SujD88mIA"
      },
      "execution_count": 2,
      "outputs": []
    },
    {
      "cell_type": "code",
      "source": [
        "d"
      ],
      "metadata": {
        "colab": {
          "base_uri": "https://localhost:8080/"
        },
        "id": "k-4dYxuO9Iim",
        "outputId": "a16e8707-24ce-4170-8f50-17589c3ce711"
      },
      "execution_count": 3,
      "outputs": [
        {
          "output_type": "execute_result",
          "data": {
            "text/plain": [
              "array([[ 6,  4,  3, 10, 20],\n",
              "       [ 3,  8, 25,  5,  9],\n",
              "       [ 7, 16, 77, 47,  6],\n",
              "       [12,  5,  8, 30, 22]])"
            ]
          },
          "metadata": {},
          "execution_count": 3
        }
      ]
    },
    {
      "cell_type": "markdown",
      "source": [
        "Az egyes forgatókönyvek bekövetkezésének valószínűsége:"
      ],
      "metadata": {
        "id": "LPK3CEfnQbnR"
      }
    },
    {
      "cell_type": "code",
      "source": [
        "p = np.array([0.15, 0.4, 0.1, 0.2, 0.15])"
      ],
      "metadata": {
        "id": "5XDB4sG5BD9L"
      },
      "execution_count": 4,
      "outputs": []
    },
    {
      "cell_type": "markdown",
      "source": [
        "**Maximum likelihood döntéshozó**\n",
        "\n",
        "Figyeljük meg a típusannotációkat és a fejkommentek szerepét a kód írása során, amikor meghívjuk a függvényt!"
      ],
      "metadata": {
        "id": "4siNrFEkQwM7"
      }
    },
    {
      "cell_type": "code",
      "source": [
        "def maximum_likelihood(d: np.array, p: np.array) -> int:\n",
        "  \"\"\"\n",
        "    maximum likelihood donteshozo implementacioja\n",
        "\n",
        "    Argumentumok:\n",
        "      d: np.array\n",
        "        dontesi tabla\n",
        "      p: np.array\n",
        "        egyes forgatokonyvek valoszinusege\n",
        "\n",
        "    Visszatérési érték:\n",
        "      int:\n",
        "        maximum likelihood donteshozo dontese (dontesi opcio indexe)\n",
        "  \"\"\"\n",
        "  idx_p_max = np.argmax(p) # legnagyobb valoszinusegu oszlop indexe\n",
        "  return int(np.argmax(d[ : , idx_p_max ]))"
      ],
      "metadata": {
        "id": "95Zk4QfCBqkm"
      },
      "execution_count": 9,
      "outputs": []
    },
    {
      "cell_type": "markdown",
      "source": [
        "**Bayes döntéshozó**\n",
        "\n",
        "Vegyük észre, hogy a mátrixszorzás műveletével hatékonyan le tudjuk írni a Bayes döntéshozó által számolt várhatóértékek számítását!"
      ],
      "metadata": {
        "id": "keNwGkxqQ3S5"
      }
    },
    {
      "cell_type": "code",
      "source": [
        "def bayes(d: np.array, p: np.array):\n",
        "  return int(np.argmax(d @ p))"
      ],
      "metadata": {
        "id": "AylmiljlEWTB"
      },
      "execution_count": 6,
      "outputs": []
    },
    {
      "cell_type": "markdown",
      "source": [
        "**Savage döntéshozó**"
      ],
      "metadata": {
        "id": "fBvrxfGbRBmc"
      }
    },
    {
      "cell_type": "code",
      "source": [
        "def savage(d):\n",
        "  segedtabla = np.zeros( np.shape( d ) )\n",
        "  i = 0\n",
        "  for v in np.max(d, axis=0):\n",
        "    segedtabla[:, i] = v\n",
        "    i += 1\n",
        "  segedtabla = segedtabla - d\n",
        "  return int(np.argmin(np.max(segedtabla, axis=1)))"
      ],
      "metadata": {
        "id": "t1G1qCQS_nfe"
      },
      "execution_count": 7,
      "outputs": []
    },
    {
      "cell_type": "markdown",
      "source": [
        "Kipróbáljuk az előbbiekben definiált függvényeket:"
      ],
      "metadata": {
        "id": "6GlqPyy4RGjS"
      }
    },
    {
      "cell_type": "code",
      "source": [
        "savage(d)"
      ],
      "metadata": {
        "colab": {
          "base_uri": "https://localhost:8080/"
        },
        "id": "KtOm1zFxAxL-",
        "outputId": "6e31dc90-8840-49bd-ed24-138b009c905c"
      },
      "execution_count": 8,
      "outputs": [
        {
          "output_type": "execute_result",
          "data": {
            "text/plain": [
              "2"
            ]
          },
          "metadata": {},
          "execution_count": 8
        }
      ]
    },
    {
      "cell_type": "code",
      "source": [
        "maximum_likelihood(d, p)"
      ],
      "metadata": {
        "id": "GJbYBQwzAzb1",
        "colab": {
          "base_uri": "https://localhost:8080/"
        },
        "outputId": "1a3ccc6f-58fb-43a7-f0da-0d8f96f05f84"
      },
      "execution_count": 10,
      "outputs": [
        {
          "output_type": "execute_result",
          "data": {
            "text/plain": [
              "2"
            ]
          },
          "metadata": {},
          "execution_count": 10
        }
      ]
    },
    {
      "cell_type": "code",
      "source": [],
      "metadata": {
        "id": "UnMS0Oa0SKcK"
      },
      "execution_count": null,
      "outputs": []
    }
  ]
}