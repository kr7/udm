{
  "nbformat": 4,
  "nbformat_minor": 0,
  "metadata": {
    "colab": {
      "provenance": [],
      "authorship_tag": "ABX9TyMeHoQipnrbthw2rN+gkUhQ",
      "include_colab_link": true
    },
    "kernelspec": {
      "name": "python3",
      "display_name": "Python 3"
    },
    "language_info": {
      "name": "python"
    }
  },
  "cells": [
    {
      "cell_type": "markdown",
      "metadata": {
        "id": "view-in-github",
        "colab_type": "text"
      },
      "source": [
        "<a href=\"https://colab.research.google.com/github/kr7/udm/blob/main/udm_send_more_money.ipynb\" target=\"_parent\"><img src=\"https://colab.research.google.com/assets/colab-badge.svg\" alt=\"Open In Colab\"/></a>"
      ]
    },
    {
      "cell_type": "markdown",
      "source": [
        "**SEND + MORE = MONEY**\n",
        "\n",
        "A fenti rejtvényben minden betű egy-egy számjegyet jelöl (pl. M = 1), a különböző betűk különböző számjegyeket jelölnek. A számjegyeket úgy kell megválasztani, hogy az összeadás érvényes (helyes) legyen. Ezt a rejtvényt fogjuk python kóddal megoldani.\n",
        "\n",
        "A következő kód azt szemlélteti, hogy az intelligensnek tűnő viselkedés hátterében álló műszaki megoldások részben a nagy számítási kapacitásra épülnek: a megoldásunk rendkívül primitív abban az értelemben, hogy pusztán végignézzük az összes lehetséges behelyettesítést, ami a viszonylag nagy számítási kapacitásnak köszönhetően végezhető el olyan rövid időn belül, hogy szinte azonnal meg is kapjuk a megoldást.\n",
        "\n",
        "Ennél szofisztikáltabb megoldási lehetőségek iránt érdeklődőknek ajánljuk a *constraint satisfaction problems* és *constraint logic programming* témaköröket."
      ],
      "metadata": {
        "id": "uyy4MQOISl6-"
      }
    },
    {
      "cell_type": "code",
      "execution_count": 1,
      "metadata": {
        "id": "1a0fCHqX8i1t"
      },
      "outputs": [],
      "source": [
        "def send_erteke(S,E,N,D):\n",
        "  return S*1000 + E*100 + N*10 + D\n",
        "\n",
        "def more_erteke(M,O,R,E):\n",
        "  return M*1000 + O*100 + R*10 + E\n",
        "\n",
        "def money_erteke(M,O,N,E,Y):\n",
        "  return M*10000 + O*1000 + N*100 + E*10 + Y"
      ]
    },
    {
      "cell_type": "code",
      "source": [
        "send_erteke(1,2,3,4)"
      ],
      "metadata": {
        "colab": {
          "base_uri": "https://localhost:8080/"
        },
        "id": "bBTYjTU49g7I",
        "outputId": "236c66ee-0200-4fb3-b680-9a0c008c39e9"
      },
      "execution_count": 2,
      "outputs": [
        {
          "output_type": "execute_result",
          "data": {
            "text/plain": [
              "1234"
            ]
          },
          "metadata": {},
          "execution_count": 2
        }
      ]
    },
    {
      "cell_type": "code",
      "source": [
        "more_erteke(1,2,3,4)"
      ],
      "metadata": {
        "colab": {
          "base_uri": "https://localhost:8080/"
        },
        "id": "zj0mNw0f9jOJ",
        "outputId": "0e212084-32a6-48a8-bbad-b737baf36142"
      },
      "execution_count": 3,
      "outputs": [
        {
          "output_type": "execute_result",
          "data": {
            "text/plain": [
              "1234"
            ]
          },
          "metadata": {},
          "execution_count": 3
        }
      ]
    },
    {
      "cell_type": "code",
      "source": [
        "money_erteke(1,2,3,4,5)"
      ],
      "metadata": {
        "colab": {
          "base_uri": "https://localhost:8080/"
        },
        "id": "giLL38zw9kt8",
        "outputId": "36979b36-ad0f-41bf-d719-6fb8eab135c9"
      },
      "execution_count": 5,
      "outputs": [
        {
          "output_type": "execute_result",
          "data": {
            "text/plain": [
              "12345"
            ]
          },
          "metadata": {},
          "execution_count": 5
        }
      ]
    },
    {
      "cell_type": "code",
      "source": [
        "M = 1\n",
        "for S in range(0,10):\n",
        "  if S == M:\n",
        "    continue\n",
        "  for E in range(0,10):\n",
        "    if E == M or E == S:\n",
        "      continue\n",
        "    for N in range(0,10):\n",
        "      if N == M or N == S or N == E:\n",
        "        continue\n",
        "      for D in range(0,10):\n",
        "        if D == M or D == S or D == E or D == N:\n",
        "          continue\n",
        "        for O in range(0,10):\n",
        "          if O == M or O == S or O == E or O == N or O == D:\n",
        "            continue\n",
        "          for R in range(0,10):\n",
        "            if R == M or R == S or R == E or R == N or R == D or R == O:\n",
        "              continue\n",
        "            for Y in range(0,10):\n",
        "              if Y == M or Y == S or Y == E or Y == N or Y == D or Y == O or Y == R:\n",
        "                continue\n",
        "              if send_erteke(S,E,N,D) + more_erteke(M,O,R,E) == money_erteke(M,O,N,E,Y):\n",
        "                print(f\"{S}{E}{N}{D}+{M}{O}{R}{E}={M}{O}{N}{E}{Y}\")"
      ],
      "metadata": {
        "colab": {
          "base_uri": "https://localhost:8080/"
        },
        "id": "o1bbLr2o9mQX",
        "outputId": "44b5358f-4c47-45ef-89bd-085c3605e4ec"
      },
      "execution_count": 7,
      "outputs": [
        {
          "output_type": "stream",
          "name": "stdout",
          "text": [
            "9567+1085=10652\n"
          ]
        }
      ]
    },
    {
      "cell_type": "code",
      "source": [],
      "metadata": {
        "id": "uxAq2XyRN2OL"
      },
      "execution_count": null,
      "outputs": []
    }
  ]
}