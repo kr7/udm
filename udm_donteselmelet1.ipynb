{
  "nbformat": 4,
  "nbformat_minor": 0,
  "metadata": {
    "colab": {
      "provenance": [],
      "authorship_tag": "ABX9TyNj1SjdAERXIscm0C5MnZBq",
      "include_colab_link": true
    },
    "kernelspec": {
      "name": "python3",
      "display_name": "Python 3"
    },
    "language_info": {
      "name": "python"
    }
  },
  "cells": [
    {
      "cell_type": "markdown",
      "metadata": {
        "id": "view-in-github",
        "colab_type": "text"
      },
      "source": [
        "<a href=\"https://colab.research.google.com/github/kr7/udm/blob/main/udm_donteselmelet1.ipynb\" target=\"_parent\"><img src=\"https://colab.research.google.com/assets/colab-badge.svg\" alt=\"Open In Colab\"/></a>"
      ]
    },
    {
      "cell_type": "markdown",
      "source": [
        "**Döntéselmélet 1**"
      ],
      "metadata": {
        "id": "XE8hUIu-OHpq"
      }
    },
    {
      "cell_type": "markdown",
      "source": [
        "Kipróbáljuk, hogy végre tudjuk-e hajtani a beírt Python kódot:"
      ],
      "metadata": {
        "id": "tLQs8C-OLlyD"
      }
    },
    {
      "cell_type": "code",
      "execution_count": 2,
      "metadata": {
        "colab": {
          "base_uri": "https://localhost:8080/"
        },
        "id": "17HySDW8GOFn",
        "outputId": "086ff889-d31b-42f2-def7-0f14e46e5363"
      },
      "outputs": [
        {
          "output_type": "stream",
          "name": "stdout",
          "text": [
            "Hello Világ!\n"
          ]
        }
      ],
      "source": [
        "print(\"Hello Világ!\")"
      ]
    },
    {
      "cell_type": "markdown",
      "source": [
        "A *numpy* szoftverkönyvtár importálása, a szoftverkönyvtár elemeire az *np* prefixumot használva fogunk tudni hivatkozni."
      ],
      "metadata": {
        "id": "TNSwn8DvLtew"
      }
    },
    {
      "cell_type": "code",
      "source": [
        "import numpy as np"
      ],
      "metadata": {
        "id": "jFkSEgpuGXEw"
      },
      "execution_count": 3,
      "outputs": []
    },
    {
      "cell_type": "markdown",
      "source": [
        "A döntési táblázatunk np.array-ben:"
      ],
      "metadata": {
        "id": "IFpglhRnL7W5"
      }
    },
    {
      "cell_type": "code",
      "source": [
        "d = np.array( [ [ 2, 6, 4, 1], [3, 2, 4, 4], [2, 8, 5, 1]])"
      ],
      "metadata": {
        "id": "OxQgQ0nfGqWM"
      },
      "execution_count": 4,
      "outputs": []
    },
    {
      "cell_type": "code",
      "source": [
        "d"
      ],
      "metadata": {
        "colab": {
          "base_uri": "https://localhost:8080/"
        },
        "id": "nZPorIASG0_e",
        "outputId": "df165f37-9ed9-4412-aac5-ba0d87528e4a"
      },
      "execution_count": 5,
      "outputs": [
        {
          "output_type": "execute_result",
          "data": {
            "text/plain": [
              "array([[2, 6, 4, 1],\n",
              "       [3, 2, 4, 4],\n",
              "       [2, 8, 5, 1]])"
            ]
          },
          "metadata": {},
          "execution_count": 5
        }
      ]
    },
    {
      "cell_type": "markdown",
      "source": [
        "A döntési táblázat egyes sorait az alábbi módon érhetjük el. Figyeljük meg, hogy pythonban a sorok (és oszlopok) számozása (indexálása) 0-val kezdődik!"
      ],
      "metadata": {
        "id": "9rI2J8y0MEOA"
      }
    },
    {
      "cell_type": "code",
      "source": [
        "d[0]"
      ],
      "metadata": {
        "colab": {
          "base_uri": "https://localhost:8080/"
        },
        "id": "0MPLdUUmG3Mu",
        "outputId": "3b99d5ca-753b-4db8-c341-402f46ec3779"
      },
      "execution_count": 6,
      "outputs": [
        {
          "output_type": "execute_result",
          "data": {
            "text/plain": [
              "array([2, 6, 4, 1])"
            ]
          },
          "metadata": {},
          "execution_count": 6
        }
      ]
    },
    {
      "cell_type": "code",
      "source": [
        "d[1]"
      ],
      "metadata": {
        "colab": {
          "base_uri": "https://localhost:8080/"
        },
        "id": "0751ZBTrHMIK",
        "outputId": "2dce5c4a-f89d-4b74-92a9-98a78c590f1b"
      },
      "execution_count": 7,
      "outputs": [
        {
          "output_type": "execute_result",
          "data": {
            "text/plain": [
              "array([3, 2, 4, 4])"
            ]
          },
          "metadata": {},
          "execution_count": 7
        }
      ]
    },
    {
      "cell_type": "markdown",
      "source": [
        "Dominanciák keresése:"
      ],
      "metadata": {
        "id": "ar_pwHt1MNw_"
      }
    },
    {
      "cell_type": "code",
      "source": [
        "def dominanciak(d):\n",
        "  for i in range(len(d)):\n",
        "      for j in range(len(d)):\n",
        "        if i==j:\n",
        "          continue\n",
        "        if np.sum(d[i] >= d[j])==len(d[j]):\n",
        "          print(f\"{i+1}-dik sor dominálja a {j+1}-dik sort\")"
      ],
      "metadata": {
        "id": "ogkW1KVnHNPM"
      },
      "execution_count": 8,
      "outputs": []
    },
    {
      "cell_type": "code",
      "source": [
        "dominanciak(d)"
      ],
      "metadata": {
        "colab": {
          "base_uri": "https://localhost:8080/"
        },
        "id": "kXrzhk_WHRXX",
        "outputId": "9ffd14fe-6ec1-4f22-a01c-90e8573aacea"
      },
      "execution_count": 9,
      "outputs": [
        {
          "output_type": "stream",
          "name": "stdout",
          "text": [
            "3-dik sor dominálja a 1-dik sort\n"
          ]
        }
      ]
    },
    {
      "cell_type": "markdown",
      "source": [
        "A numpy könyvtár függvényeit használva a különböző döntéshozókat meglepően kevés kóddal tudjuk implementálni. Az alábbi kódok visszaadják annak a döntésnek a sorszámát, amit az adott döntéshozó választ. (Figyelem: numpy-ban a döntési táblázat sorainak indexálása nullával kezdődik, ezért a döntési lehetőségek indexálása is nullával kezdődik.)"
      ],
      "metadata": {
        "id": "E26PgEaRMqtF"
      }
    },
    {
      "cell_type": "code",
      "source": [
        "# Pesszimista döntéshozó\n",
        "np.argmax(np.min(d, axis=1))"
      ],
      "metadata": {
        "colab": {
          "base_uri": "https://localhost:8080/"
        },
        "id": "Fpjj6K8Rav52",
        "outputId": "b70ec299-b739-4732-8117-64a84474ec99"
      },
      "execution_count": 10,
      "outputs": [
        {
          "output_type": "execute_result",
          "data": {
            "text/plain": [
              "np.int64(1)"
            ]
          },
          "metadata": {},
          "execution_count": 10
        }
      ]
    },
    {
      "cell_type": "code",
      "source": [
        "# Optimista döntéshozó\n",
        "np.argmax(np.max(d, axis=1))"
      ],
      "metadata": {
        "colab": {
          "base_uri": "https://localhost:8080/"
        },
        "id": "YLKNiUDUa0X4",
        "outputId": "701f7a4f-48c7-4534-cb64-51864f594cfe"
      },
      "execution_count": 11,
      "outputs": [
        {
          "output_type": "execute_result",
          "data": {
            "text/plain": [
              "np.int64(2)"
            ]
          },
          "metadata": {},
          "execution_count": 11
        }
      ]
    },
    {
      "cell_type": "code",
      "source": [
        "# Laplace döntéshozó\n",
        "np.argmax(np.mean(d, axis=1))"
      ],
      "metadata": {
        "colab": {
          "base_uri": "https://localhost:8080/"
        },
        "id": "boGGgq61bZ_g",
        "outputId": "e73f63d6-d56a-4263-e636-0eae87191684"
      },
      "execution_count": 12,
      "outputs": [
        {
          "output_type": "execute_result",
          "data": {
            "text/plain": [
              "np.int64(2)"
            ]
          },
          "metadata": {},
          "execution_count": 12
        }
      ]
    },
    {
      "cell_type": "markdown",
      "source": [
        "Hurwitz polinomok ábrázolása"
      ],
      "metadata": {
        "id": "0qmjHpLDOASy"
      }
    },
    {
      "cell_type": "code",
      "source": [
        "import matplotlib.pyplot as plt\n",
        "\n",
        "def plot_hurwitz(d):\n",
        "  for i in range(len(d)):\n",
        "    plt.plot([min(d[i]), max(d[i])])\n",
        "  plt.show()"
      ],
      "metadata": {
        "id": "jHCD27DNcyzm"
      },
      "execution_count": 17,
      "outputs": []
    },
    {
      "cell_type": "code",
      "source": [
        "plot_hurwitz(d)"
      ],
      "metadata": {
        "colab": {
          "base_uri": "https://localhost:8080/",
          "height": 430
        },
        "id": "wA0PMq6RNott",
        "outputId": "b4e90d4e-a64a-4d57-b792-86dca1c7a4df"
      },
      "execution_count": 18,
      "outputs": [
        {
          "output_type": "display_data",
          "data": {
            "text/plain": [
              "<Figure size 640x480 with 1 Axes>"
            ],
            "image/png": "[encoded data removed]"
          },
          "metadata": {}
        }
      ]
    },
    {
      "cell_type": "code",
      "source": [],
      "metadata": {
        "id": "hH8uxnOPN3sy"
      },
      "execution_count": null,
      "outputs": []
    }
  ]
}