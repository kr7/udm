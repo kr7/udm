{
  "nbformat": 4,
  "nbformat_minor": 0,
  "metadata": {
    "colab": {
      "provenance": [],
      "authorship_tag": "ABX9TyO/6EOF29c0IZ39mnxdDzaE",
      "include_colab_link": true
    },
    "kernelspec": {
      "name": "python3",
      "display_name": "Python 3"
    },
    "language_info": {
      "name": "python"
    }
  },
  "cells": [
    {
      "cell_type": "markdown",
      "metadata": {
        "id": "view-in-github",
        "colab_type": "text"
      },
      "source": [
        "<a href=\"https://colab.research.google.com/github/kr7/udm/blob/main/udm_normalizalas.ipynb\" target=\"_parent\"><img src=\"https://colab.research.google.com/assets/colab-badge.svg\" alt=\"Open In Colab\"/></a>"
      ]
    },
    {
      "cell_type": "markdown",
      "source": [
        "**Standard normalizálás**"
      ],
      "metadata": {
        "id": "rp7cChLhrWpv"
      }
    },
    {
      "cell_type": "code",
      "execution_count": 2,
      "metadata": {
        "id": "pbzK3CGA8Tzt"
      },
      "outputs": [],
      "source": [
        "import numpy as np"
      ]
    },
    {
      "cell_type": "code",
      "source": [
        "data = np.array( [ [1.6, 18], [1.85, 23], [2.10, 26], [1.75, 52] ])"
      ],
      "metadata": {
        "id": "KPyLgFHG8ajh"
      },
      "execution_count": 3,
      "outputs": []
    },
    {
      "cell_type": "code",
      "source": [
        "data"
      ],
      "metadata": {
        "colab": {
          "base_uri": "https://localhost:8080/"
        },
        "id": "QofgkqPX8oQO",
        "outputId": "4a456c94-e3c4-4620-b259-543b82662c4d"
      },
      "execution_count": 4,
      "outputs": [
        {
          "output_type": "execute_result",
          "data": {
            "text/plain": [
              "array([[ 1.6 , 18.  ],\n",
              "       [ 1.85, 23.  ],\n",
              "       [ 2.1 , 26.  ],\n",
              "       [ 1.75, 52.  ]])"
            ]
          },
          "metadata": {},
          "execution_count": 4
        }
      ]
    },
    {
      "cell_type": "code",
      "source": [
        "np.std(data[:,0])"
      ],
      "metadata": {
        "colab": {
          "base_uri": "https://localhost:8080/"
        },
        "id": "GIUvnXsJ8onM",
        "outputId": "a58c8cd6-2b8a-4770-c4f1-9ff59616f3ce"
      },
      "execution_count": 5,
      "outputs": [
        {
          "output_type": "execute_result",
          "data": {
            "text/plain": [
              "np.float64(0.18200274723201296)"
            ]
          },
          "metadata": {},
          "execution_count": 5
        }
      ]
    },
    {
      "cell_type": "code",
      "source": [
        "np.mean(data[:,0])"
      ],
      "metadata": {
        "colab": {
          "base_uri": "https://localhost:8080/"
        },
        "id": "50uTDKNR86cb",
        "outputId": "39a2d227-bf27-456e-ccad-22bc78dfc15f"
      },
      "execution_count": 6,
      "outputs": [
        {
          "output_type": "execute_result",
          "data": {
            "text/plain": [
              "np.float64(1.8250000000000002)"
            ]
          },
          "metadata": {},
          "execution_count": 6
        }
      ]
    },
    {
      "cell_type": "code",
      "source": [
        "data[:,0] = (data[:,0]-np.mean(data[:,0]))/np.std(data[:,0])"
      ],
      "metadata": {
        "id": "eqnrFsG49SEn"
      },
      "execution_count": 7,
      "outputs": []
    },
    {
      "cell_type": "code",
      "source": [
        "data"
      ],
      "metadata": {
        "colab": {
          "base_uri": "https://localhost:8080/"
        },
        "id": "1lDXmS5o9fHu",
        "outputId": "00c4220c-d49a-45d8-a0a9-acb3296eff71"
      },
      "execution_count": 8,
      "outputs": [
        {
          "output_type": "execute_result",
          "data": {
            "text/plain": [
              "array([[-1.23624508, 18.        ],\n",
              "       [ 0.13736056, 23.        ],\n",
              "       [ 1.5109662 , 26.        ],\n",
              "       [-0.41208169, 52.        ]])"
            ]
          },
          "metadata": {},
          "execution_count": 8
        }
      ]
    },
    {
      "cell_type": "code",
      "source": [
        "data[:,1] = (data[:,1]-np.mean(data[:,1]))/np.std(data[:,1])"
      ],
      "metadata": {
        "id": "XY7tcJjG9fkA"
      },
      "execution_count": 9,
      "outputs": []
    },
    {
      "cell_type": "code",
      "source": [
        "data"
      ],
      "metadata": {
        "colab": {
          "base_uri": "https://localhost:8080/"
        },
        "id": "qvYywJel9trL",
        "outputId": "31671d36-bded-4687-ba01-e85f8e71e114"
      },
      "execution_count": 10,
      "outputs": [
        {
          "output_type": "execute_result",
          "data": {
            "text/plain": [
              "array([[-1.23624508, -0.89285225],\n",
              "       [ 0.13736056, -0.51291512],\n",
              "       [ 1.5109662 , -0.28495284],\n",
              "       [-0.41208169,  1.69072021]])"
            ]
          },
          "metadata": {},
          "execution_count": 10
        }
      ]
    },
    {
      "cell_type": "markdown",
      "source": [
        "**Min-max normalizálás**"
      ],
      "metadata": {
        "id": "6Z7KlIVkrqAO"
      }
    },
    {
      "cell_type": "code",
      "source": [
        "data = np.array( [ [1.6, 18], [1.85, 23], [2.10, 26], [1.75, 52] ])"
      ],
      "metadata": {
        "id": "FwqmWJULrqez"
      },
      "execution_count": 11,
      "outputs": []
    },
    {
      "cell_type": "code",
      "source": [
        "data"
      ],
      "metadata": {
        "colab": {
          "base_uri": "https://localhost:8080/"
        },
        "id": "nkkEKk7A9uFB",
        "outputId": "d71ae1db-7d10-47d2-d45b-41929918102f"
      },
      "execution_count": 12,
      "outputs": [
        {
          "output_type": "execute_result",
          "data": {
            "text/plain": [
              "array([[ 1.6 , 18.  ],\n",
              "       [ 1.85, 23.  ],\n",
              "       [ 2.1 , 26.  ],\n",
              "       [ 1.75, 52.  ]])"
            ]
          },
          "metadata": {},
          "execution_count": 12
        }
      ]
    },
    {
      "cell_type": "code",
      "source": [
        "data[:,0] = (data[:,0]-np.min(data[:,0]))/(np.max(data[:,0])-np.min(data[:,0]))"
      ],
      "metadata": {
        "id": "d66KkdCj943k"
      },
      "execution_count": 13,
      "outputs": []
    },
    {
      "cell_type": "code",
      "source": [
        "data"
      ],
      "metadata": {
        "colab": {
          "base_uri": "https://localhost:8080/"
        },
        "id": "1tG-4OVg98cV",
        "outputId": "44798285-c2f3-49d2-b725-9536716de583"
      },
      "execution_count": null,
      "outputs": [
        {
          "output_type": "execute_result",
          "data": {
            "text/plain": [
              "array([[0.        , 0.        ],\n",
              "       [0.5       , 0.14705882],\n",
              "       [1.        , 0.23529412],\n",
              "       [0.3       , 1.        ]])"
            ]
          },
          "metadata": {},
          "execution_count": 20
        }
      ]
    },
    {
      "cell_type": "code",
      "source": [
        "data[:,1] = (data[:,1]-np.min(data[:,1]))/(np.max(data[:,1])-np.min(data[:,1]))"
      ],
      "metadata": {
        "id": "Z2y0lrvu-K94"
      },
      "execution_count": 14,
      "outputs": []
    },
    {
      "cell_type": "code",
      "source": [
        "data"
      ],
      "metadata": {
        "colab": {
          "base_uri": "https://localhost:8080/"
        },
        "id": "8DAgrSOGr1FK",
        "outputId": "2f639eb2-bbe7-441f-a0a7-69d781936ce4"
      },
      "execution_count": 15,
      "outputs": [
        {
          "output_type": "execute_result",
          "data": {
            "text/plain": [
              "array([[0.        , 0.        ],\n",
              "       [0.5       , 0.14705882],\n",
              "       [1.        , 0.23529412],\n",
              "       [0.3       , 1.        ]])"
            ]
          },
          "metadata": {},
          "execution_count": 15
        }
      ]
    },
    {
      "cell_type": "code",
      "source": [],
      "metadata": {
        "id": "l3pTxb5Ar12R"
      },
      "execution_count": null,
      "outputs": []
    }
  ]
}