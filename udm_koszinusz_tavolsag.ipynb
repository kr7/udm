{
  "nbformat": 4,
  "nbformat_minor": 0,
  "metadata": {
    "colab": {
      "provenance": [],
      "authorship_tag": "ABX9TyM2bffSWVNXS/VlRKiZfuOT",
      "include_colab_link": true
    },
    "kernelspec": {
      "name": "python3",
      "display_name": "Python 3"
    },
    "language_info": {
      "name": "python"
    }
  },
  "cells": [
    {
      "cell_type": "markdown",
      "metadata": {
        "id": "view-in-github",
        "colab_type": "text"
      },
      "source": [
        "<a href=\"https://colab.research.google.com/github/kr7/udm/blob/main/udm_koszinusz_tavolsag.ipynb\" target=\"_parent\"><img src=\"https://colab.research.google.com/assets/colab-badge.svg\" alt=\"Open In Colab\"/></a>"
      ]
    },
    {
      "cell_type": "markdown",
      "source": [
        "**Koszinusz távolság számítása**\n",
        "\n",
        "Importáljuk a szükséges szoftverkönyvtárakat:"
      ],
      "metadata": {
        "id": "2M1GP5xYpSXL"
      }
    },
    {
      "cell_type": "code",
      "source": [
        "import math\n",
        "import numpy as np\n",
        "\n",
        "from time import time"
      ],
      "metadata": {
        "id": "IkFuSlWVGvXS"
      },
      "execution_count": 1,
      "outputs": []
    },
    {
      "cell_type": "markdown",
      "source": [
        "**1. megoldás: \"középiskolai\" szintű függvény**\n",
        "\n",
        "Középiskolás koromban nagyjából egy ilyen függvényt implementáltam volna a koszinusz távolság számítására:"
      ],
      "metadata": {
        "id": "fpPEXacsnNVD"
      }
    },
    {
      "cell_type": "code",
      "execution_count": 2,
      "metadata": {
        "id": "c-YNx7C1GNic"
      },
      "outputs": [],
      "source": [
        "def cos_tavolsag(x, y):\n",
        "  skalaris_szorzat=0\n",
        "  for i in range(len(x)):\n",
        "    skalaris_szorzat = skalaris_szorzat + x[i]*y[i]\n",
        "\n",
        "  x_hossza = 0\n",
        "  for i in range(len(x)):\n",
        "    x_hossza = x_hossza + x[i]*x[i]\n",
        "  x_hossza = math.sqrt(x_hossza)\n",
        "\n",
        "  y_hossza = 0\n",
        "  for i in range(len(y)):\n",
        "    y_hossza = y_hossza + y[i]*y[i]\n",
        "  y_hossza = math.sqrt(y_hossza)\n",
        "\n",
        "  return 1 - skalaris_szorzat/(x_hossza*y_hossza)"
      ]
    },
    {
      "cell_type": "code",
      "source": [
        "cos_tavolsag( [2,4,5,1,6], [3,8,6,2,1])"
      ],
      "metadata": {
        "colab": {
          "base_uri": "https://localhost:8080/"
        },
        "id": "DwX45KjZHLaT",
        "outputId": "3b588915-dd87-4ee5-fa27-88b30a44ee71"
      },
      "execution_count": 3,
      "outputs": [
        {
          "output_type": "execute_result",
          "data": {
            "text/plain": [
              "0.21394263640508493"
            ]
          },
          "metadata": {},
          "execution_count": 3
        }
      ]
    },
    {
      "cell_type": "markdown",
      "source": [
        "Megnézzük, hogy mennyire hatékony ez a függvény, ha \"nagy tételben\" akarunk koszinusz távolságokat számítani, ehhez 500x500 = 250.000 koszinusztávolságot foguk kiszámolni, és lemérjük a számoláshoz szükséges időt.\n",
        "\n",
        "De miért is akarnánk \"nagy tételben\" számolni koszinusz távolságokat? Például egy nagy dokumentumhalmazban való hatékony keresés egyik alapja a koszniusz távolságok számítása, és ekkor SOK koszinusz távolságot kell számolnunk.\n",
        "\n",
        "Lásd:\n",
        "\n",
        "- https://en.wikipedia.org/wiki/Cosine_similarity ,\n",
        "- https://medium.com/@arjunprakash027/understanding-cosine-similarity-a-key-concept-in-data-science-72a0fcc57599"
      ],
      "metadata": {
        "id": "GqKyyB30nmt3"
      }
    },
    {
      "cell_type": "code",
      "source": [
        "data = np.random.rand(500,200)"
      ],
      "metadata": {
        "id": "dS3AnlRAIYdX"
      },
      "execution_count": 4,
      "outputs": []
    },
    {
      "cell_type": "code",
      "source": [
        "t0 = time()\n",
        "distances = np.zeros((500,500))\n",
        "for i in range(500):\n",
        "  for j in range(500):\n",
        "    distances[i,j] = cos_tavolsag(data[i], data[j])\n",
        "t1 = time()\n",
        "print(\"Idő: \", t1-t0)"
      ],
      "metadata": {
        "colab": {
          "base_uri": "https://localhost:8080/"
        },
        "id": "2HJJPJsLIZki",
        "outputId": "f1f1ae09-d28d-4050-d82d-424c1586efc0"
      },
      "execution_count": 5,
      "outputs": [
        {
          "output_type": "stream",
          "name": "stdout",
          "text": [
            "Idő:  60.34904146194458\n"
          ]
        }
      ]
    },
    {
      "cell_type": "markdown",
      "source": [
        "**2. megoldás: gyorsítás Cython-nal**\n",
        "\n",
        "Lásd: https://cython.org/"
      ],
      "metadata": {
        "id": "ebfrrfLJpux0"
      }
    },
    {
      "cell_type": "code",
      "source": [
        "%load_ext cython"
      ],
      "metadata": {
        "id": "nQHdjDh0JQov"
      },
      "execution_count": null,
      "outputs": []
    },
    {
      "cell_type": "code",
      "source": [
        "%%cython\n",
        "\n",
        "cimport cython\n",
        "from libc.stdlib cimport malloc, free\n",
        "\n",
        "def cos_tavolsag_cython(x, y):\n",
        "  cdef float skalaris_szorzat=0\n",
        "  cdef float x_hossza=0\n",
        "  cdef float y_hossza=0\n",
        "  cdef int i\n",
        "  cdef float * x1\n",
        "  cdef float * y1\n",
        "  cdef int LEN_X\n",
        "  cdef int LEN_Y\n",
        "\n",
        "  LEN_X = len(x)\n",
        "  LEN_Y = len(y)\n",
        "\n",
        "  x1 = <float*>malloc(LEN_X*sizeof(float))\n",
        "  y1 = <float*>malloc(LEN_Y*sizeof(float))\n",
        "\n",
        "  for i in range(LEN_X):\n",
        "    x1[i] = x[i]\n",
        "  for i in range(LEN_Y):\n",
        "    y1[i] = y[i]\n",
        "\n",
        "  skalaris_szorzat=0\n",
        "  for i in range(LEN_X):\n",
        "    skalaris_szorzat = skalaris_szorzat + x1[i]*y1[i]\n",
        "\n",
        "  x_hossza = 0\n",
        "  for i in range(LEN_X):\n",
        "    x_hossza = x_hossza + x1[i]*x1[i]\n",
        "  x_hossza = x_hossza**0.5\n",
        "\n",
        "  y_hossza = 0\n",
        "  for i in range(LEN_Y):\n",
        "    y_hossza = y_hossza + y1[i]*y1[i]\n",
        "  y_hossza = y_hossza**0.5\n",
        "\n",
        "  return 1 - skalaris_szorzat/(x_hossza*y_hossza)"
      ],
      "metadata": {
        "id": "4tGy6BfCKOZn"
      },
      "execution_count": 8,
      "outputs": []
    },
    {
      "cell_type": "code",
      "source": [
        "t0 = time()\n",
        "distances = np.zeros((500,500))\n",
        "for i in range(500):\n",
        "  for j in range(500):\n",
        "    distances[i,j] = cos_tavolsag_cython(data[i], data[j])\n",
        "t1 = time()\n",
        "print(\"Idő: \", t1-t0)"
      ],
      "metadata": {
        "colab": {
          "base_uri": "https://localhost:8080/"
        },
        "id": "5ID2D2IAKpLX",
        "outputId": "d884cff9-fa4f-4fc7-947d-87777430c766"
      },
      "execution_count": 9,
      "outputs": [
        {
          "output_type": "stream",
          "name": "stdout",
          "text": [
            "Idő:  13.620433807373047\n"
          ]
        }
      ]
    },
    {
      "cell_type": "markdown",
      "source": [
        "**3. megoldás: skaláris szorzat műveletét használva**\n",
        "\n",
        "A @ operátorral (többek között) skaláris szorzatot számolhatunk hatékonyan. Megnézzük, ez vajon gyorsítja-e a koszinusz távolságok számítását:"
      ],
      "metadata": {
        "id": "M1WZvEUcqFTX"
      }
    },
    {
      "cell_type": "code",
      "source": [
        "def cos_tavolsag_kukaccal(x, y):\n",
        "\n",
        "  skalaris_szorzat=x@y\n",
        "  x_hossza = math.sqrt(x@x)\n",
        "  y_hossza = math.sqrt(y@y)\n",
        "\n",
        "  return 1 - skalaris_szorzat/(x_hossza*y_hossza)"
      ],
      "metadata": {
        "id": "I5nLz4WtSsay"
      },
      "execution_count": 10,
      "outputs": []
    },
    {
      "cell_type": "code",
      "source": [
        "t0 = time()\n",
        "distances = np.zeros((500,500))\n",
        "for i in range(500):\n",
        "  for j in range(500):\n",
        "    distances[i,j] = cos_tavolsag_kukaccal(data[i], data[j])\n",
        "t1 = time()\n",
        "print(\"Idő: \", t1-t0)"
      ],
      "metadata": {
        "colab": {
          "base_uri": "https://localhost:8080/"
        },
        "id": "ZZZ-70EQT_Qg",
        "outputId": "85e5e369-f7e6-4aae-eaf0-82f4739285ea"
      },
      "execution_count": 11,
      "outputs": [
        {
          "output_type": "stream",
          "name": "stdout",
          "text": [
            "Idő:  1.3463561534881592\n"
          ]
        }
      ]
    },
    {
      "cell_type": "markdown",
      "source": [
        "**4. megoldás: szoftverkönyvtárbeli függvény használata**\n",
        "\n",
        "A sklearn szoftverkönyvtár tartalmaz egy függvényt a páronkénti koszinusztávolságok számításához. A következőkben kipróbáljuk ezt:"
      ],
      "metadata": {
        "id": "brd50oCXqgWm"
      }
    },
    {
      "cell_type": "code",
      "source": [
        "from sklearn.metrics.pairwise import cosine_distances"
      ],
      "metadata": {
        "id": "PFNm93mYLpSB"
      },
      "execution_count": 12,
      "outputs": []
    },
    {
      "cell_type": "code",
      "source": [
        "t0 = time()\n",
        "distances = cosine_distances(data)\n",
        "t1 = time()\n",
        "print(\"Idő: \", t1-t0)"
      ],
      "metadata": {
        "colab": {
          "base_uri": "https://localhost:8080/"
        },
        "id": "j73-XA14OE8i",
        "outputId": "155e08be-fc81-462f-df9f-215516ea4ea7"
      },
      "execution_count": 13,
      "outputs": [
        {
          "output_type": "stream",
          "name": "stdout",
          "text": [
            "Idő:  0.013830900192260742\n"
          ]
        }
      ]
    },
    {
      "cell_type": "code",
      "source": [],
      "metadata": {
        "id": "0izq_vN2OLEN"
      },
      "execution_count": null,
      "outputs": []
    }
  ]
}